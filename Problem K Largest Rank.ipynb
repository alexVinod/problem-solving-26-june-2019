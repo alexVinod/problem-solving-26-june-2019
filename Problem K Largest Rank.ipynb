{
 "cells": [
  {
   "cell_type": "markdown",
   "metadata": {},
   "source": [
    "### Problem K Largest Rank :\n",
    "- Largest number in a list\n",
    "- Second Largest number in a list\n",
    "- Kth largest number in a list\n",
    "\n",
    "- Element with highest frequency\n",
    "- Second Highest frequency\n",
    "- Kth Highest frequency\n",
    "\n",
    "- {a:4,g:9,i:6,p:213,c:6}\n",
    "- `[4,6,6,9,213]`\n",
    "- "
   ]
  },
  {
   "cell_type": "code",
   "execution_count": 49,
   "metadata": {},
   "outputs": [
    {
     "name": "stdout",
     "output_type": "stream",
     "text": [
      "-1\n",
      "-1\n"
     ]
    }
   ],
   "source": [
    "# Function to find the second largest number in a list\n",
    "def secondLargest(li):\n",
    "    # Convert the list into a unique list\n",
    "    # O(n^2)\n",
    "    unique = []\n",
    "    for n in li:\n",
    "        if n not in unique:\n",
    "            unique.append(n)\n",
    "    unique = sorted(unique,reverse=True)\n",
    "    return unique[1]\n",
    "secondLargest([1,2,3,4,2,5,8,1,2,7,8,8,8])\n",
    "\n",
    "\n",
    "def fifthLeast(li):\n",
    "    unique = []\n",
    "    if len(li) >=5:\n",
    "        for n in li:\n",
    "            if n not in unique:\n",
    "                unique.append(n)\n",
    "        unique = sorted(unique,reverse=True)\n",
    "        return unique[4]\n",
    "    else:\n",
    "        print(-1)\n",
    "fifthLeast([1,2,3,4,2,5,8,1,2,7,8,8,8])\n",
    "\n",
    "def kLargest(li,k):\n",
    "    unique = []\n",
    "    if len(li) >=k:        \n",
    "        for n in li:\n",
    "            if n not in unique:\n",
    "                unique.append(n)\n",
    "        unique = sorted(unique,reverse=True)\n",
    "    else:\n",
    "        print(-1)\n",
    "    return unique[k-1]\n",
    "kLargest([1,2,3,4,2,5,8,1,2,7,8,8,8],4)\n",
    "\n",
    "def kSmallest(li,k):\n",
    "    unique = []\n",
    "    try:\n",
    "        if len(li) >=k and k!=0:  \n",
    "            for n in li:\n",
    "                if n not in unique:\n",
    "                    unique.append(n)\n",
    "            unique = sorted(unique,reverse=False)\n",
    "        else:\n",
    "            print(-1)\n",
    "        return unique[k-1]\n",
    "    except Exception as e:\n",
    "        print(-1)    \n",
    "kSmallest([],0)"
   ]
  },
  {
   "cell_type": "code",
   "execution_count": null,
   "metadata": {},
   "outputs": [],
   "source": [
    "# Function to identify the element with highestFrequencyElement\n",
    "# If many elements have the have the highestFrequencyElement \n",
    "# highestFrequencyElement ([1,2,3,9,8,7,3,4,2,1])\n",
    "\n",
    "def highestFrequencyElement(li):\n",
    "    unique = {}\n",
    "    for n in li:\n",
    "        if n not in unique:\n",
    "            unique[n] +=1\n",
    "        else:\n",
    "            unique[n] = 1\n",
    "            "
   ]
  },
  {
   "cell_type": "code",
   "execution_count": 59,
   "metadata": {},
   "outputs": [
    {
     "name": "stdout",
     "output_type": "stream",
     "text": [
      "2\n",
      "2\n",
      "2\n",
      "1\n",
      "1\n",
      "1\n",
      "1\n"
     ]
    },
    {
     "ename": "IndexError",
     "evalue": "list index out of range",
     "output_type": "error",
     "traceback": [
      "\u001b[1;31m---------------------------------------------------------------------------\u001b[0m",
      "\u001b[1;31mIndexError\u001b[0m                                Traceback (most recent call last)",
      "\u001b[1;32m<ipython-input-59-7c7c10100733>\u001b[0m in \u001b[0;36m<module>\u001b[1;34m\u001b[0m\n\u001b[0;32m     21\u001b[0m             \u001b[0mprint\u001b[0m\u001b[1;33m(\u001b[0m\u001b[0munique\u001b[0m\u001b[1;33m[\u001b[0m\u001b[0mi\u001b[0m\u001b[1;33m]\u001b[0m\u001b[1;33m,\u001b[0m\u001b[1;34m\"=>\"\u001b[0m\u001b[1;33m,\u001b[0m\u001b[0mli\u001b[0m\u001b[1;33m.\u001b[0m\u001b[0mcount\u001b[0m\u001b[1;33m(\u001b[0m\u001b[0munique\u001b[0m\u001b[1;33m[\u001b[0m\u001b[0mi\u001b[0m\u001b[1;33m]\u001b[0m\u001b[1;33m)\u001b[0m\u001b[1;33m)\u001b[0m\u001b[1;33m\u001b[0m\u001b[1;33m\u001b[0m\u001b[0m\n\u001b[0;32m     22\u001b[0m         '''\n\u001b[1;32m---> 23\u001b[1;33m \u001b[0mhighFeqEle\u001b[0m\u001b[1;33m(\u001b[0m\u001b[1;33m[\u001b[0m\u001b[1;36m1\u001b[0m\u001b[1;33m,\u001b[0m\u001b[1;36m2\u001b[0m\u001b[1;33m,\u001b[0m\u001b[1;36m3\u001b[0m\u001b[1;33m,\u001b[0m\u001b[1;36m9\u001b[0m\u001b[1;33m,\u001b[0m\u001b[1;36m8\u001b[0m\u001b[1;33m,\u001b[0m\u001b[1;36m7\u001b[0m\u001b[1;33m,\u001b[0m\u001b[1;36m3\u001b[0m\u001b[1;33m,\u001b[0m\u001b[1;36m4\u001b[0m\u001b[1;33m,\u001b[0m\u001b[1;36m2\u001b[0m\u001b[1;33m,\u001b[0m\u001b[1;36m1\u001b[0m\u001b[1;33m]\u001b[0m\u001b[1;33m)\u001b[0m\u001b[1;33m\u001b[0m\u001b[1;33m\u001b[0m\u001b[0m\n\u001b[0m",
      "\u001b[1;32m<ipython-input-59-7c7c10100733>\u001b[0m in \u001b[0;36mhighFeqEle\u001b[1;34m(li)\u001b[0m\n\u001b[0;32m      8\u001b[0m     \u001b[0munique\u001b[0m\u001b[1;33m=\u001b[0m\u001b[0mlist\u001b[0m\u001b[1;33m(\u001b[0m\u001b[0munique\u001b[0m\u001b[1;33m)\u001b[0m\u001b[1;33m\u001b[0m\u001b[1;33m\u001b[0m\u001b[0m\n\u001b[0;32m      9\u001b[0m     \u001b[1;32mfor\u001b[0m \u001b[0mi\u001b[0m \u001b[1;32min\u001b[0m \u001b[0mrange\u001b[0m\u001b[1;33m(\u001b[0m\u001b[1;36m10\u001b[0m\u001b[1;33m)\u001b[0m\u001b[1;33m:\u001b[0m\u001b[1;33m\u001b[0m\u001b[1;33m\u001b[0m\u001b[0m\n\u001b[1;32m---> 10\u001b[1;33m         \u001b[0mprint\u001b[0m\u001b[1;33m(\u001b[0m\u001b[0mli\u001b[0m\u001b[1;33m.\u001b[0m\u001b[0mcount\u001b[0m\u001b[1;33m(\u001b[0m\u001b[0munique\u001b[0m\u001b[1;33m[\u001b[0m\u001b[0mi\u001b[0m\u001b[1;33m]\u001b[0m\u001b[1;33m)\u001b[0m\u001b[1;33m)\u001b[0m\u001b[1;33m\u001b[0m\u001b[1;33m\u001b[0m\u001b[0m\n\u001b[0m\u001b[0;32m     11\u001b[0m         '''\n\u001b[0;32m     12\u001b[0m         \u001b[1;32mif\u001b[0m \u001b[0mli\u001b[0m\u001b[1;33m.\u001b[0m\u001b[0mcount\u001b[0m\u001b[1;33m(\u001b[0m\u001b[0munique\u001b[0m\u001b[1;33m[\u001b[0m\u001b[0mi\u001b[0m\u001b[1;33m]\u001b[0m\u001b[1;33m)\u001b[0m\u001b[1;33m:\u001b[0m\u001b[1;33m\u001b[0m\u001b[1;33m\u001b[0m\u001b[0m\n",
      "\u001b[1;31mIndexError\u001b[0m: list index out of range"
     ]
    }
   ],
   "source": [
    "def highFeqEle(li):\n",
    "    unique=[]\n",
    "    values=[]\n",
    "    for i in li:\n",
    "        if li.count(i) >=1:\n",
    "            unique.append(i)\n",
    "    unique = set(unique)\n",
    "    unique=list(unique)\n",
    "    for i in range(10):\n",
    "        print(li.count(unique[i]))\n",
    "        '''\n",
    "        if li.count(unique[i]):\n",
    "            print(li.count(unique[i]))\n",
    "        else:\n",
    "            print(0)\n",
    "        ''' \n",
    "        '''\n",
    "        if i not in unique[i]:\n",
    "            print(i,\"=>\",str(0))\n",
    "        elif i in unique[i]:\n",
    "            print(unique[i],\"=>\",li.count(unique[i]))\n",
    "        '''\n",
    "highFeqEle([1,2,3,9,8,7,3,4,2,1])"
   ]
  },
  {
   "cell_type": "code",
   "execution_count": 140,
   "metadata": {},
   "outputs": [
    {
     "data": {
      "text/plain": [
       "2"
      ]
     },
     "execution_count": 140,
     "metadata": {},
     "output_type": "execute_result"
    }
   ],
   "source": [
    "def highFrequency(li,k):\n",
    "    unique = {}\n",
    "    for n in li:\n",
    "        if n not in unique:\n",
    "            unique[n] = 1\n",
    "        else:\n",
    "            unique[n]+= 1\n",
    "# Getting all frequencies into a list\n",
    "    freq = unique.values()\n",
    "    maxfreq = max(freq)\n",
    "    maxfreqE = []\n",
    "\n",
    "    for item in unique.items():\n",
    "        if item[1] == maxfreq:\n",
    "            maxfreqE.append(item[0])\n",
    "    maxfreqE = sorted(maxfreqE)\n",
    "    return maxfreqE[k-1]\n",
    "\n",
    "highFrequency([1,2,3,9,8,7,3,4,2,1],2)"
   ]
  },
  {
   "cell_type": "code",
   "execution_count": 131,
   "metadata": {},
   "outputs": [
    {
     "name": "stdout",
     "output_type": "stream",
     "text": [
      "dict_values([2, 2, 1, 2, 1, 3, 1])\n",
      "[-1, 3, 9]\n"
     ]
    },
    {
     "data": {
      "text/plain": [
       "3"
      ]
     },
     "execution_count": 131,
     "metadata": {},
     "output_type": "execute_result"
    }
   ],
   "source": [
    "def lowFrequency(li):\n",
    "    unique = {}\n",
    "    for n in li:\n",
    "        if n not in unique:\n",
    "            unique[n] = 1\n",
    "        else:\n",
    "            unique[n]+= 1\n",
    "# Getting all frequencies into a list\n",
    "    freq = unique.values()\n",
    "    minfreq = min(freq)\n",
    "    minfreqE = []\n",
    "    print(freq)\n",
    "    \n",
    "    for item in unique.items():\n",
    "        if item[1] == minfreq:\n",
    "            minfreqE.append(item[0])\n",
    "    minfreqE = sorted(minfreqE)\n",
    "    print(minfreqE)\n",
    "    return minfreqE[1]\n",
    "\n",
    "lowFrequency([1,2,3,2,1,4,4,9,0,0,0,-1])"
   ]
  },
  {
   "cell_type": "code",
   "execution_count": 127,
   "metadata": {},
   "outputs": [
    {
     "data": {
      "text/plain": [
       "[0]"
      ]
     },
     "execution_count": 127,
     "metadata": {},
     "output_type": "execute_result"
    }
   ],
   "source": [
    "def secLFrequency(li):\n",
    "    unique = {}\n",
    "    for n in li:\n",
    "        if n not in unique:\n",
    "            unique[n] = 1\n",
    "        else:\n",
    "            unique[n]+= 1\n",
    "# Getting all frequencies into a list\n",
    "    freq = unique.values()\n",
    "    maxfreq = max(freq)\n",
    "    maxfreqE = []\n",
    "    \n",
    "    for item in unique.items():\n",
    "        #print(item)\n",
    "        if item[1] == maxfreq:\n",
    "            maxfreqE.append(item[0])\n",
    "    maxfreqE = sorted(maxfreqE)\n",
    "    #print(maxfreqE)\n",
    "    return maxfreqE\n",
    "\n",
    "secLFrequency([1,2,3,2,1,4,4,9,0,0,0,-1])"
   ]
  },
  {
   "cell_type": "code",
   "execution_count": 145,
   "metadata": {},
   "outputs": [
    {
     "data": {
      "text/plain": [
       "9"
      ]
     },
     "execution_count": 145,
     "metadata": {},
     "output_type": "execute_result"
    }
   ],
   "source": [
    "def khighFrequency(li,k):\n",
    "    unique = {}\n",
    "    for n in li:\n",
    "        if n not in unique:\n",
    "            unique[n] = 1\n",
    "        else:\n",
    "            unique[n]+= 1\n",
    "    freq = unique.values()\n",
    "    kfreq = sorted(list(set(freq)))\n",
    "    # print(kfreq)\n",
    "    maxfreq = kfreq[-k] #k th highest value\n",
    "    # print(maxfreq)\n",
    "    maxfreqE = []\n",
    "    for item in unique.items():\n",
    "        if item[1] == maxfreq:\n",
    "            maxfreqE.append(item[0])\n",
    "         #  print(maxfreqE)\n",
    "    maxfreqE = sorted(maxfreqE)\n",
    "    return min(maxfreqE)\n",
    "\n",
    "khighFrequency([9,8,7,6,5,2,3,4,9,6,7,7,7,6,7,6],3)"
   ]
  },
  {
   "cell_type": "code",
   "execution_count": 157,
   "metadata": {},
   "outputs": [
    {
     "name": "stdout",
     "output_type": "stream",
     "text": [
      "s\n",
      "g\n",
      "h\n",
      "e\n",
      "w\n",
      "r\n",
      "n\n",
      "k\n"
     ]
    },
    {
     "ename": "IndexError",
     "evalue": "list index out of range",
     "output_type": "error",
     "traceback": [
      "\u001b[1;31m---------------------------------------------------------------------------\u001b[0m",
      "\u001b[1;31mIndexError\u001b[0m                                Traceback (most recent call last)",
      "\u001b[1;32m<ipython-input-157-90309a5409aa>\u001b[0m in \u001b[0;36m<module>\u001b[1;34m\u001b[0m\n\u001b[0;32m     29\u001b[0m             \u001b[0mk\u001b[0m\u001b[1;33m=\u001b[0m\u001b[0mint\u001b[0m\u001b[1;33m(\u001b[0m\u001b[0mfile\u001b[0m\u001b[1;33m.\u001b[0m\u001b[0mreadline\u001b[0m\u001b[1;33m(\u001b[0m\u001b[1;33m)\u001b[0m\u001b[1;33m)\u001b[0m\u001b[1;33m\u001b[0m\u001b[1;33m\u001b[0m\u001b[0m\n\u001b[0;32m     30\u001b[0m             \u001b[0mprint\u001b[0m\u001b[1;33m(\u001b[0m\u001b[0mkhighFrequency\u001b[0m\u001b[1;33m(\u001b[0m\u001b[0ms\u001b[0m\u001b[1;33m,\u001b[0m\u001b[0mk\u001b[0m\u001b[1;33m)\u001b[0m\u001b[1;33m)\u001b[0m\u001b[1;33m\u001b[0m\u001b[1;33m\u001b[0m\u001b[0m\n\u001b[1;32m---> 31\u001b[1;33m \u001b[0mfileInput\u001b[0m\u001b[1;33m(\u001b[0m\u001b[1;33m)\u001b[0m\u001b[1;33m\u001b[0m\u001b[1;33m\u001b[0m\u001b[0m\n\u001b[0m\u001b[0;32m     32\u001b[0m \u001b[1;31m#khighFrequency([9,8,7,6,5,2,3,4,9,6,7,7,7,6,7,6],3)\u001b[0m\u001b[1;33m\u001b[0m\u001b[1;33m\u001b[0m\u001b[1;33m\u001b[0m\u001b[0m\n",
      "\u001b[1;32m<ipython-input-157-90309a5409aa>\u001b[0m in \u001b[0;36mfileInput\u001b[1;34m()\u001b[0m\n\u001b[0;32m     28\u001b[0m             \u001b[0ms\u001b[0m\u001b[1;33m=\u001b[0m\u001b[0mfile\u001b[0m\u001b[1;33m.\u001b[0m\u001b[0mreadline\u001b[0m\u001b[1;33m(\u001b[0m\u001b[1;33m)\u001b[0m\u001b[1;33m\u001b[0m\u001b[1;33m\u001b[0m\u001b[0m\n\u001b[0;32m     29\u001b[0m             \u001b[0mk\u001b[0m\u001b[1;33m=\u001b[0m\u001b[0mint\u001b[0m\u001b[1;33m(\u001b[0m\u001b[0mfile\u001b[0m\u001b[1;33m.\u001b[0m\u001b[0mreadline\u001b[0m\u001b[1;33m(\u001b[0m\u001b[1;33m)\u001b[0m\u001b[1;33m)\u001b[0m\u001b[1;33m\u001b[0m\u001b[1;33m\u001b[0m\u001b[0m\n\u001b[1;32m---> 30\u001b[1;33m             \u001b[0mprint\u001b[0m\u001b[1;33m(\u001b[0m\u001b[0mkhighFrequency\u001b[0m\u001b[1;33m(\u001b[0m\u001b[0ms\u001b[0m\u001b[1;33m,\u001b[0m\u001b[0mk\u001b[0m\u001b[1;33m)\u001b[0m\u001b[1;33m)\u001b[0m\u001b[1;33m\u001b[0m\u001b[1;33m\u001b[0m\u001b[0m\n\u001b[0m\u001b[0;32m     31\u001b[0m \u001b[0mfileInput\u001b[0m\u001b[1;33m(\u001b[0m\u001b[1;33m)\u001b[0m\u001b[1;33m\u001b[0m\u001b[1;33m\u001b[0m\u001b[0m\n\u001b[0;32m     32\u001b[0m \u001b[1;31m#khighFrequency([9,8,7,6,5,2,3,4,9,6,7,7,7,6,7,6],3)\u001b[0m\u001b[1;33m\u001b[0m\u001b[1;33m\u001b[0m\u001b[1;33m\u001b[0m\u001b[0m\n",
      "\u001b[1;32m<ipython-input-145-c5de2c5d1670>\u001b[0m in \u001b[0;36mkhighFrequency\u001b[1;34m(li, k)\u001b[0m\n\u001b[0;32m      9\u001b[0m     \u001b[0mkfreq\u001b[0m \u001b[1;33m=\u001b[0m \u001b[0msorted\u001b[0m\u001b[1;33m(\u001b[0m\u001b[0mlist\u001b[0m\u001b[1;33m(\u001b[0m\u001b[0mset\u001b[0m\u001b[1;33m(\u001b[0m\u001b[0mfreq\u001b[0m\u001b[1;33m)\u001b[0m\u001b[1;33m)\u001b[0m\u001b[1;33m)\u001b[0m\u001b[1;33m\u001b[0m\u001b[1;33m\u001b[0m\u001b[0m\n\u001b[0;32m     10\u001b[0m     \u001b[1;31m# print(kfreq)\u001b[0m\u001b[1;33m\u001b[0m\u001b[1;33m\u001b[0m\u001b[1;33m\u001b[0m\u001b[0m\n\u001b[1;32m---> 11\u001b[1;33m     \u001b[0mmaxfreq\u001b[0m \u001b[1;33m=\u001b[0m \u001b[0mkfreq\u001b[0m\u001b[1;33m[\u001b[0m\u001b[1;33m-\u001b[0m\u001b[0mk\u001b[0m\u001b[1;33m]\u001b[0m \u001b[1;31m#k th highest value\u001b[0m\u001b[1;33m\u001b[0m\u001b[1;33m\u001b[0m\u001b[0m\n\u001b[0m\u001b[0;32m     12\u001b[0m     \u001b[1;31m# print(maxfreq)\u001b[0m\u001b[1;33m\u001b[0m\u001b[1;33m\u001b[0m\u001b[1;33m\u001b[0m\u001b[0m\n\u001b[0;32m     13\u001b[0m     \u001b[0mmaxfreqE\u001b[0m \u001b[1;33m=\u001b[0m \u001b[1;33m[\u001b[0m\u001b[1;33m]\u001b[0m\u001b[1;33m\u001b[0m\u001b[1;33m\u001b[0m\u001b[0m\n",
      "\u001b[1;31mIndexError\u001b[0m: list index out of range"
     ]
    }
   ],
   "source": [
    "def khighFrequencyFile(li,k):\n",
    "    unique = {}\n",
    "    for n in li:\n",
    "        if n not in unique:\n",
    "            unique[n] = 1\n",
    "        else:\n",
    "            unique[n]+= 1\n",
    "    freq = unique.values()\n",
    "    kfreq = sorted(list(set(freq)))\n",
    "    # print(kfreq)\n",
    "    if k>=1:\n",
    "        maxfreq = kfreq[-k] #k th highest value\n",
    "    else:\n",
    "        print(-1)\n",
    "    # print(maxfreq)\n",
    "    maxfreqE = []\n",
    "    for item in unique.items():\n",
    "        if item[1] == maxfreq:\n",
    "            maxfreqE.append(item[0])\n",
    "         #  print(maxfreqE)\n",
    "    maxfreqE = sorted(maxfreqE)\n",
    "    return min(maxfreqE)\n",
    "\n",
    "def fileInput():\n",
    "    with open('./input.txt') as file:\n",
    "        testCases = int(file.readline())\n",
    "        for i in range(testCases):\n",
    "            s=file.readline()\n",
    "            k=int(file.readline())\n",
    "            print(khighFrequency(s,k))\n",
    "fileInput()\n",
    "#khighFrequency([9,8,7,6,5,2,3,4,9,6,7,7,7,6,7,6],3)"
   ]
  }
 ],
 "metadata": {
  "kernelspec": {
   "display_name": "Python 3",
   "language": "python",
   "name": "python3"
  },
  "language_info": {
   "codemirror_mode": {
    "name": "ipython",
    "version": 3
   },
   "file_extension": ".py",
   "mimetype": "text/x-python",
   "name": "python",
   "nbconvert_exporter": "python",
   "pygments_lexer": "ipython3",
   "version": "3.7.3"
  }
 },
 "nbformat": 4,
 "nbformat_minor": 2
}
